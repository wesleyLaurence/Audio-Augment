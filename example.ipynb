{
 "cells": [
  {
   "cell_type": "markdown",
   "metadata": {},
   "source": [
    "# Audio Data Augmentation\n",
    "##### Augment your audio dataset by 10x \n",
    "1. Waveform Inversion\n",
    "2. Highpass Filter\n",
    "3. Lowpass Filter\n",
    "4. Bandpass Filter\n",
    "5. Add noise (normal, uniform)\n",
    "6. Pitch shift (low, high)\n",
    "7. Time shift (slow, fast)"
   ]
  },
  {
   "cell_type": "code",
   "execution_count": 1,
   "metadata": {},
   "outputs": [],
   "source": [
    "# import library\n",
    "from audio_augment import augment"
   ]
  },
  {
   "cell_type": "code",
   "execution_count": 2,
   "metadata": {},
   "outputs": [],
   "source": [
    "# initialize\n",
    "a = augment.AudioAugment()"
   ]
  },
  {
   "cell_type": "code",
   "execution_count": 3,
   "metadata": {
    "scrolled": false
   },
   "outputs": [
    {
     "name": "stdout",
     "output_type": "stream",
     "text": [
      "Dataset successfully augmented!\n"
     ]
    }
   ],
   "source": [
    "# create augmented dataset\n",
    "a.augment_dataset(\n",
    "    HPF_cutoff=700, \n",
    "    LPF_cutoff=1300, \n",
    "    noise_level=0.02,\n",
    "    low_factor=1.3,\n",
    "    high_factor=0.7,\n",
    "    slow_factor=1.3,\n",
    "    fast_factor=0.7\n",
    ")"
   ]
  }
 ],
 "metadata": {
  "kernelspec": {
   "display_name": "Python 3",
   "language": "python",
   "name": "python3"
  },
  "language_info": {
   "codemirror_mode": {
    "name": "ipython",
    "version": 3
   },
   "file_extension": ".py",
   "mimetype": "text/x-python",
   "name": "python",
   "nbconvert_exporter": "python",
   "pygments_lexer": "ipython3",
   "version": "3.7.7"
  }
 },
 "nbformat": 4,
 "nbformat_minor": 4
}
